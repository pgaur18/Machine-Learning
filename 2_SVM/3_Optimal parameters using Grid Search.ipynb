{
 "cells": [
  {
   "cell_type": "code",
   "execution_count": 1,
   "id": "2ddcf27b",
   "metadata": {},
   "outputs": [],
   "source": [
    "from sklearn import datasets \n",
    "from sklearn.svm import SVC\n",
    "from sklearn import model_selection as ms \n",
    "from sklearn.neighbors import KNeighborsClassifier"
   ]
  },
  {
   "cell_type": "code",
   "execution_count": 3,
   "id": "822afd28",
   "metadata": {},
   "outputs": [],
   "source": [
    "iris = datasets.load_iris()\n",
    "X = iris.data\n",
    "Y = iris.target"
   ]
  },
  {
   "cell_type": "code",
   "execution_count": 4,
   "id": "406853c3",
   "metadata": {},
   "outputs": [],
   "source": [
    "x_train,x_test, y_train, y_test = ms.train_test_split(X, Y)"
   ]
  },
  {
   "cell_type": "code",
   "execution_count": 21,
   "id": "812ab7a8",
   "metadata": {},
   "outputs": [
    {
     "data": {
      "text/plain": [
       "GridSearchCV(estimator=KNeighborsClassifier(),\n",
       "             param_grid={'n_neighbors': [3, 5, 7, 9, 11]})"
      ]
     },
     "execution_count": 21,
     "metadata": {},
     "output_type": "execute_result"
    }
   ],
   "source": [
    "algo1 = KNeighborsClassifier()\n",
    "\n",
    "grid = { \"n_neighbors\" : [3,5,7,9,11] }\n",
    "\n",
    "abc = ms.GridSearchCV(algo1, grid)\n",
    "abc.fit(x_train, y_train)"
   ]
  },
  {
   "cell_type": "code",
   "execution_count": 22,
   "id": "5da1a6a4",
   "metadata": {},
   "outputs": [
    {
     "data": {
      "text/plain": [
       "KNeighborsClassifier(n_neighbors=9)"
      ]
     },
     "execution_count": 22,
     "metadata": {},
     "output_type": "execute_result"
    }
   ],
   "source": [
    "abc.best_estimator_"
   ]
  },
  {
   "cell_type": "code",
   "execution_count": 23,
   "id": "753a6cab",
   "metadata": {},
   "outputs": [
    {
     "data": {
      "text/plain": [
       "{'mean_fit_time': array([0.00138736, 0.00040612, 0.00059133, 0.00059948, 0.00040002]),\n",
       " 'std_fit_time': array([0.00079272, 0.00049746, 0.00048296, 0.00048949, 0.00048994]),\n",
       " 'mean_score_time': array([0.00199733, 0.00179868, 0.00180297, 0.00159945, 0.00199642]),\n",
       " 'std_score_time': array([0.00089884, 0.00040547, 0.00040361, 0.00049229, 0.00062837]),\n",
       " 'param_n_neighbors': masked_array(data=[3, 5, 7, 9, 11],\n",
       "              mask=[False, False, False, False, False],\n",
       "        fill_value='?',\n",
       "             dtype=object),\n",
       " 'params': [{'n_neighbors': 3},\n",
       "  {'n_neighbors': 5},\n",
       "  {'n_neighbors': 7},\n",
       "  {'n_neighbors': 9},\n",
       "  {'n_neighbors': 11}],\n",
       " 'split0_test_score': array([1.        , 1.        , 0.95652174, 0.95652174, 0.95652174]),\n",
       " 'split1_test_score': array([0.95652174, 0.95652174, 0.95652174, 0.95652174, 0.95652174]),\n",
       " 'split2_test_score': array([0.95454545, 0.95454545, 0.95454545, 1.        , 1.        ]),\n",
       " 'split3_test_score': array([1.        , 1.        , 1.        , 1.        , 0.95454545]),\n",
       " 'split4_test_score': array([0.95454545, 0.95454545, 0.95454545, 0.95454545, 0.95454545]),\n",
       " 'mean_test_score': array([0.97312253, 0.97312253, 0.96442688, 0.97351779, 0.96442688]),\n",
       " 'std_test_score': array([0.02195722, 0.02195722, 0.01780851, 0.02163468, 0.01780851]),\n",
       " 'rank_test_score': array([2, 2, 4, 1, 4])}"
      ]
     },
     "execution_count": 23,
     "metadata": {},
     "output_type": "execute_result"
    }
   ],
   "source": [
    "abc.cv_results_"
   ]
  },
  {
   "cell_type": "code",
   "execution_count": 24,
   "id": "80139920",
   "metadata": {},
   "outputs": [
    {
     "data": {
      "text/plain": [
       "GridSearchCV(estimator=SVC(),\n",
       "             param_grid={'C': [100.0, 1000.0, 5000.0, 10000.0, 50000.0,\n",
       "                               100000.0],\n",
       "                         'gamma': [0.001, 0.0005, 0.0001, 0.005]})"
      ]
     },
     "execution_count": 24,
     "metadata": {},
     "output_type": "execute_result"
    }
   ],
   "source": [
    "algo2 = SVC()\n",
    "\n",
    "grid = {'C' : [1e2, 1e3, 5e3, 1e4, 5e4, 1e5], \n",
    "        'gamma' : [1e-3, 5e-4, 1e-4, 5e-3]}\n",
    "\n",
    "abc2 = ms.GridSearchCV(algo2, grid)\n",
    "abc2.fit(x_train, y_train)"
   ]
  },
  {
   "cell_type": "code",
   "execution_count": 26,
   "id": "cf2bca50",
   "metadata": {},
   "outputs": [
    {
     "data": {
      "text/plain": [
       "SVC(C=5000.0, gamma=0.005)"
      ]
     },
     "execution_count": 26,
     "metadata": {},
     "output_type": "execute_result"
    }
   ],
   "source": [
    "abc2.best_estimator_"
   ]
  }
 ],
 "metadata": {
  "kernelspec": {
   "display_name": "Python 3 (ipykernel)",
   "language": "python",
   "name": "python3"
  },
  "language_info": {
   "codemirror_mode": {
    "name": "ipython",
    "version": 3
   },
   "file_extension": ".py",
   "mimetype": "text/x-python",
   "name": "python",
   "nbconvert_exporter": "python",
   "pygments_lexer": "ipython3",
   "version": "3.10.6"
  }
 },
 "nbformat": 4,
 "nbformat_minor": 5
}
