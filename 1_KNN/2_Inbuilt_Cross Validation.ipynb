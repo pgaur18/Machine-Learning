{
 "cells": [
  {
   "cell_type": "code",
   "execution_count": 3,
   "id": "19ed66b3",
   "metadata": {},
   "outputs": [],
   "source": [
    "from sklearn import datasets\n",
    "from sklearn import model_selection as ms\n",
    "import numpy as np\n",
    "from sklearn.linear_model import LinearRegression"
   ]
  },
  {
   "cell_type": "code",
   "execution_count": 4,
   "id": "6cba8847",
   "metadata": {},
   "outputs": [],
   "source": [
    "iris= datasets.load_iris()"
   ]
  },
  {
   "cell_type": "code",
   "execution_count": 5,
   "id": "8b401c21",
   "metadata": {},
   "outputs": [],
   "source": [
    "x_train, x_test, y_train, y_test= ms.train_test_split(iris.data, iris.target, test_size= 0.2)"
   ]
  },
  {
   "cell_type": "code",
   "execution_count": 6,
   "id": "34a3db13",
   "metadata": {},
   "outputs": [
    {
     "data": {
      "text/plain": [
       "array([0.95063427, 0.84306933, 0.89472871, 0.94444747, 0.97761243])"
      ]
     },
     "execution_count": 6,
     "metadata": {},
     "output_type": "execute_result"
    }
   ],
   "source": [
    "algo1= LinearRegression()\n",
    "ms.cross_val_score(algo1, x_train, y_train)"
   ]
  },
  {
   "cell_type": "markdown",
   "id": "306b0821",
   "metadata": {},
   "source": [
    "## Zero Cross Val Score"
   ]
  },
  {
   "cell_type": "code",
   "execution_count": 7,
   "id": "36afb888",
   "metadata": {},
   "outputs": [
    {
     "data": {
      "text/plain": [
       "array([0.        , 0.85124923, 0.        , 0.76155439, 0.        ])"
      ]
     },
     "execution_count": 7,
     "metadata": {},
     "output_type": "execute_result"
    }
   ],
   "source": [
    "algo2= LinearRegression()\n",
    "ms.cross_val_score(algo2, iris.data, iris.target)"
   ]
  },
  {
   "cell_type": "markdown",
   "id": "11297073",
   "metadata": {},
   "source": [
    "## Get rid of Zero Cross Val Score"
   ]
  },
  {
   "cell_type": "code",
   "execution_count": 13,
   "id": "4976cbde",
   "metadata": {},
   "outputs": [
    {
     "data": {
      "text/plain": [
       "array([0.94630284, 0.91038635, 0.90685974])"
      ]
     },
     "execution_count": 13,
     "metadata": {},
     "output_type": "execute_result"
    }
   ],
   "source": [
    "algo3= LinearRegression()\n",
    "ms.cross_val_score(algo3, iris.data, iris.target, cv= ms.KFold(n_splits= 3, shuffle= True))"
   ]
  }
 ],
 "metadata": {
  "kernelspec": {
   "display_name": "Python 3 (ipykernel)",
   "language": "python",
   "name": "python3"
  },
  "language_info": {
   "codemirror_mode": {
    "name": "ipython",
    "version": 3
   },
   "file_extension": ".py",
   "mimetype": "text/x-python",
   "name": "python",
   "nbconvert_exporter": "python",
   "pygments_lexer": "ipython3",
   "version": "3.10.6"
  }
 },
 "nbformat": 4,
 "nbformat_minor": 5
}
