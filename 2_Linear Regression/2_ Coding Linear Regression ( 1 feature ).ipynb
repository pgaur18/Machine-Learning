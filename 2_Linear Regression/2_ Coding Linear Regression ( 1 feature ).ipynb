{
 "cells": [
  {
   "cell_type": "code",
   "execution_count": 1,
   "id": "47969412",
   "metadata": {},
   "outputs": [],
   "source": [
    "import numpy as np"
   ]
  },
  {
   "cell_type": "code",
   "execution_count": 2,
   "id": "3f2c3815",
   "metadata": {},
   "outputs": [],
   "source": [
    "data= np.loadtxt(\"data.csv\", delimiter= \",\")\n",
    "\n",
    "data.shape\n",
    "\n",
    "x= data[ : , 0]\n",
    "y= data[ : , 1]"
   ]
  },
  {
   "cell_type": "code",
   "execution_count": 3,
   "id": "12f434c0",
   "metadata": {},
   "outputs": [],
   "source": [
    "from sklearn import model_selection as ms\n",
    "\n",
    "X_train, X_test, Y_train, Y_test= ms.train_test_split(x,y, test_size= 0.3)"
   ]
  },
  {
   "cell_type": "code",
   "execution_count": 4,
   "id": "a6c4b378",
   "metadata": {},
   "outputs": [],
   "source": [
    "def fit(x_train, y_train):\n",
    "    \n",
    "    num= (x_train*y_train).mean() - ( x_train.mean() * y_train.mean() )\n",
    "    \n",
    "    den= (x_train**2).mean() - x_train.mean()**2\n",
    "    \n",
    "    m= num/den\n",
    "    \n",
    "    c= y_train.mean() - m * x_train.mean()\n",
    "    \n",
    "    return m,c"
   ]
  },
  {
   "cell_type": "code",
   "execution_count": 5,
   "id": "7dfc7be8",
   "metadata": {},
   "outputs": [],
   "source": [
    "def predict(x, m, c):\n",
    "    \n",
    "    y= m*x + c\n",
    "    \n",
    "    return y\n",
    "\n",
    "def score( y_truth, y_pred ):\n",
    "    \n",
    "    u= ((y_truth - y_pred )**2).sum()\n",
    "    v= ((y_truth - y_truth.mean() )**2).sum()\n",
    "    \n",
    "    return 1 - u/v\n",
    "\n",
    "\n",
    "def cost( x, y, m, c ):\n",
    "    \n",
    "    return ((y- (m*x + c))**2).sum()\n",
    "    "
   ]
  },
  {
   "cell_type": "code",
   "execution_count": 6,
   "id": "9ddce76f",
   "metadata": {},
   "outputs": [
    {
     "name": "stdout",
     "output_type": "stream",
     "text": [
      "Test Score 0.5794362950716186\n",
      "Test Score 0.6037220685327824\n",
      "M and C 1.3440740253189443 7.014539998791491\n",
      "Cost on training data  8512.685614981243\n"
     ]
    }
   ],
   "source": [
    "m, c= fit(X_train, Y_train)\n",
    "\n",
    "# test data\n",
    "y_test_pred= predict(X_test, m, c)\n",
    "print(\"Test Score\", score(Y_test, y_test_pred))\n",
    "\n",
    "\n",
    "# train data\n",
    "y_train_pred= predict(X_train, m, c)\n",
    "print(\"Test Score\", score(Y_train, y_train_pred))\n",
    "\n",
    "print(\"M and C\", m, c)\n",
    "print(\"Cost on training data \", cost(X_train, Y_train, m, c))"
   ]
  }
 ],
 "metadata": {
  "kernelspec": {
   "display_name": "Python 3 (ipykernel)",
   "language": "python",
   "name": "python3"
  },
  "language_info": {
   "codemirror_mode": {
    "name": "ipython",
    "version": 3
   },
   "file_extension": ".py",
   "mimetype": "text/x-python",
   "name": "python",
   "nbconvert_exporter": "python",
   "pygments_lexer": "ipython3",
   "version": "3.10.6"
  }
 },
 "nbformat": 4,
 "nbformat_minor": 5
}
