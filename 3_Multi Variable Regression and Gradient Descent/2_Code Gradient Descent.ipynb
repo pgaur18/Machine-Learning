{
 "cells": [
  {
   "cell_type": "code",
   "execution_count": 4,
   "id": "9d638245",
   "metadata": {},
   "outputs": [],
   "source": [
    "import numpy as np\n",
    "\n",
    "# data= np.loadtxt(\"data.csv\", delimiter= \",\")\n",
    "# data.shape\n",
    "# shape= (100, 2)  which means there is only 1 feature and y as the output\n",
    "\n",
    "# We will not load the data separately. Our function will load it."
   ]
  },
  {
   "cell_type": "code",
   "execution_count": 5,
   "id": "bdfadbd0",
   "metadata": {},
   "outputs": [],
   "source": [
    "def cost(points, m, c):\n",
    "    \n",
    "    N= len(points)\n",
    "    x= points[ : , 0]\n",
    "    y= points[ : , 1]\n",
    "\n",
    "    return (((y- (m*x + c))**2).sum())/N"
   ]
  },
  {
   "cell_type": "code",
   "execution_count": 6,
   "id": "b0b6db38",
   "metadata": {},
   "outputs": [],
   "source": [
    "def step_gradient(points, leaning_rate, m, c):\n",
    "    \n",
    "    m_slope= 0\n",
    "    c_slope= 0\n",
    "    N= len(points)\n",
    "    \n",
    "#  Below for loops helps in suming up all the data points\n",
    "\n",
    "    for i in range(len(points)):\n",
    "        \n",
    "        x= points[i, 0]\n",
    "        y= points[i, 1]\n",
    "        m_slope += (-2/N)* (y- (m*x + c) )*x\n",
    "        c_slope += (-2/N)* (y- (m*x + c) )\n",
    "        \n",
    "    new_m= m - (leaning_rate * m_slope)\n",
    "    new_c= c - (leaning_rate * c_slope)\n",
    "    \n",
    "    return new_m, new_c"
   ]
  },
  {
   "cell_type": "code",
   "execution_count": 7,
   "id": "70e1c758",
   "metadata": {},
   "outputs": [],
   "source": [
    "# points = data \n",
    "\n",
    "def gd(points, leaning_rate, num_iterations):\n",
    "    \n",
    "    m= 0\n",
    "    c= 0\n",
    "    \n",
    "    for i in range(num_iterations):\n",
    "        m, c= step_gradient(points, leaning_rate, m, c)\n",
    "        print(i, \" Cost : \", cost(points, m, c))\n",
    "    return m, c "
   ]
  },
  {
   "cell_type": "code",
   "execution_count": 8,
   "id": "add8a646",
   "metadata": {},
   "outputs": [],
   "source": [
    "def run():\n",
    "    \n",
    "    data= np.loadtxt(\"data.csv\", delimiter= \",\")\n",
    "\n",
    "    leaning_rate= 0.0001\n",
    "    num_iterations= 10\n",
    "    \n",
    "    m,c= gd(data, leaning_rate, num_iterations)\n",
    "    \n",
    "    print(m , c)"
   ]
  },
  {
   "cell_type": "code",
   "execution_count": 9,
   "id": "b827c0f1",
   "metadata": {},
   "outputs": [
    {
     "name": "stdout",
     "output_type": "stream",
     "text": [
      "0  Cost :  1484.5865574086486\n",
      "1  Cost :  457.8542575737673\n",
      "2  Cost :  199.50998572553885\n",
      "3  Cost :  134.50591058200536\n",
      "4  Cost :  118.14969342239948\n",
      "5  Cost :  114.03414906038151\n",
      "6  Cost :  112.99857731713662\n",
      "7  Cost :  112.73798187568467\n",
      "8  Cost :  112.67238435909101\n",
      "9  Cost :  112.65585181499748\n",
      "1.4774173755483797 0.02963934787473239\n"
     ]
    }
   ],
   "source": [
    "run()"
   ]
  }
 ],
 "metadata": {
  "kernelspec": {
   "display_name": "Python 3 (ipykernel)",
   "language": "python",
   "name": "python3"
  },
  "language_info": {
   "codemirror_mode": {
    "name": "ipython",
    "version": 3
   },
   "file_extension": ".py",
   "mimetype": "text/x-python",
   "name": "python",
   "nbconvert_exporter": "python",
   "pygments_lexer": "ipython3",
   "version": "3.9.7"
  }
 },
 "nbformat": 4,
 "nbformat_minor": 5
}
