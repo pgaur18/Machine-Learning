{
 "cells": [
  {
   "cell_type": "code",
   "execution_count": 1,
   "id": "8f85b10b",
   "metadata": {},
   "outputs": [],
   "source": [
    "from sklearn import datasets"
   ]
  },
  {
   "cell_type": "code",
   "execution_count": 22,
   "id": "30f0ee3c",
   "metadata": {},
   "outputs": [
    {
     "data": {
      "text/plain": [
       "(506, 13)"
      ]
     },
     "execution_count": 22,
     "metadata": {},
     "output_type": "execute_result"
    }
   ],
   "source": [
    "boston= datasets.load_boston()\n",
    "boston\n",
    "\n",
    "X= boston.data\n",
    "Y= boston.target\n",
    "\n",
    "X.shape"
   ]
  },
  {
   "cell_type": "code",
   "execution_count": 3,
   "id": "2a7b2655",
   "metadata": {},
   "outputs": [
    {
     "data": {
      "text/plain": [
       "Index(['CRIM', 'ZN', 'INDUS', 'CHAS', 'NOX', 'RM', 'AGE', 'DIS', 'RAD', 'TAX',\n",
       "       'PTRATIO', 'B', 'LSTAT'],\n",
       "      dtype='object')"
      ]
     },
     "execution_count": 3,
     "metadata": {},
     "output_type": "execute_result"
    }
   ],
   "source": [
    "import pandas as pd\n",
    "\n",
    "df= pd.DataFrame(X)\n",
    "\n",
    "df.columns= boston.feature_names\n",
    "df.columns"
   ]
  },
  {
   "cell_type": "code",
   "execution_count": 4,
   "id": "dc1db2a6",
   "metadata": {},
   "outputs": [],
   "source": [
    "from sklearn import model_selection as ms\n",
    "\n",
    "x_train, x_test, y_train, y_test= ms.train_test_split(X,Y)"
   ]
  },
  {
   "cell_type": "code",
   "execution_count": 5,
   "id": "49764a55",
   "metadata": {},
   "outputs": [],
   "source": [
    "from sklearn.linear_model import LinearRegression\n",
    "\n",
    "algo1= LinearRegression()"
   ]
  },
  {
   "cell_type": "code",
   "execution_count": 9,
   "id": "7f8783a4",
   "metadata": {},
   "outputs": [
    {
     "name": "stdout",
     "output_type": "stream",
     "text": [
      "0.733011875419032\n",
      "0.7399984555055249\n"
     ]
    }
   ],
   "source": [
    "algo1.fit(x_train, y_train)\n",
    "\n",
    "y_pred= algo1.predict(x_test)\n",
    "\n",
    "train_score= algo1.score(x_train, y_train)\n",
    "test_score= algo1.score(x_test, y_test)\n",
    "\n",
    "print(train_score)\n",
    "print(test_score)"
   ]
  },
  {
   "cell_type": "markdown",
   "id": "a9551dbd",
   "metadata": {},
   "source": [
    "## Adding 1 more column( dummy columns)"
   ]
  },
  {
   "cell_type": "code",
   "execution_count": 25,
   "id": "8416f98a",
   "metadata": {},
   "outputs": [
    {
     "data": {
      "text/plain": [
       "(506, 14)"
      ]
     },
     "execution_count": 25,
     "metadata": {},
     "output_type": "execute_result"
    }
   ],
   "source": [
    "df[\"age_age\"]= df.AGE**2\n",
    "\n",
    "df.describe()\n",
    "\n",
    "x2= df.values\n",
    "\n",
    "x2.shape"
   ]
  },
  {
   "cell_type": "code",
   "execution_count": 27,
   "id": "8a264476",
   "metadata": {},
   "outputs": [],
   "source": [
    "x_train, x_test, y_train, y_test= ms.train_test_split(X,Y, random_state= 0)\n",
    "x2_train, x2_test, y2_train, y2_test= ms.train_test_split(x2,Y, random_state= 0)"
   ]
  },
  {
   "cell_type": "code",
   "execution_count": 29,
   "id": "8726d141",
   "metadata": {},
   "outputs": [
    {
     "data": {
      "text/plain": [
       "LinearRegression()"
      ]
     },
     "execution_count": 29,
     "metadata": {},
     "output_type": "execute_result"
    }
   ],
   "source": [
    "algo1= LinearRegression()\n",
    "algo2= LinearRegression()\n",
    "\n",
    "algo1.fit(x_train, y_train)\n",
    "algo2.fit(x2_train, y2_train)"
   ]
  },
  {
   "cell_type": "code",
   "execution_count": 31,
   "id": "4ba4915e",
   "metadata": {},
   "outputs": [
    {
     "name": "stdout",
     "output_type": "stream",
     "text": [
      "0.7697699488741149\n",
      "0.6354638433202129\n",
      "0.7707245449911091\n",
      "0.6433109272342966\n"
     ]
    }
   ],
   "source": [
    "y_pred= algo1.predict(x_test)\n",
    "\n",
    "x_train_score= algo1.score(x_train, y_train)\n",
    "x_test_score= algo1.score(x_test, y_test)\n",
    "\n",
    "print(x_train_score)\n",
    "print(x_test_score)\n",
    "\n",
    "\n",
    "\n",
    "y2_pred= algo2.predict(x2_test)\n",
    "\n",
    "x2_train_score= algo2.score(x2_train, y2_train)\n",
    "x2_test_score= algo2.score(x2_test, y2_test)\n",
    "\n",
    "print(x2_train_score)\n",
    "print(x2_test_score)"
   ]
  }
 ],
 "metadata": {
  "kernelspec": {
   "display_name": "Python 3 (ipykernel)",
   "language": "python",
   "name": "python3"
  },
  "language_info": {
   "codemirror_mode": {
    "name": "ipython",
    "version": 3
   },
   "file_extension": ".py",
   "mimetype": "text/x-python",
   "name": "python",
   "nbconvert_exporter": "python",
   "pygments_lexer": "ipython3",
   "version": "3.9.7"
  }
 },
 "nbformat": 4,
 "nbformat_minor": 5
}
